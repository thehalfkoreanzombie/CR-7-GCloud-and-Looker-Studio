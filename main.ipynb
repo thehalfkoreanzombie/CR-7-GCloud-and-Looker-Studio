{
 "cells": [
  {
   "cell_type": "markdown",
   "metadata": {},
   "source": [
    "- Using Python, create a BigQuery client.\n",
    "\n",
    "- In BigQuery (using the console or the command line), in the project that the client connects to, make a new dataset called 'plants'.\n",
    "\n",
    "- Back in the Python file (or notebook), use the client to list the datasets in the BigQuery project. Confirm that the new 'plants' dataset is there."
   ]
  },
  {
   "cell_type": "code",
   "execution_count": 5,
   "metadata": {},
   "outputs": [
    {
     "name": "stdout",
     "output_type": "stream",
     "text": [
      "Successfully created a BiqQuery client\n",
      "Project: abstract-flame-407818\n",
      "Listing datasets:\n",
      "dataset id: `google_stock`, full_name: `abstract-flame-407818:google_stock`, labels (tags): {}\n",
      "dataset id: `mls_salaries`, full_name: `abstract-flame-407818:mls_salaries`, labels (tags): {}\n",
      "dataset id: `my_vinyls`, full_name: `abstract-flame-407818:my_vinyls`, labels (tags): {}\n",
      "dataset id: `plants`, full_name: `abstract-flame-407818:plants`, labels (tags): {}\n",
      "dataset id: `san_fran_bike`, full_name: `abstract-flame-407818:san_fran_bike`, labels (tags): {}\n"
     ]
    }
   ],
   "source": [
    "#import bigquery from google-cloud-library\n",
    "from google.cloud import bigquery\n",
    "\n",
    "#create bigquery client\n",
    "client = bigquery.Client()\n",
    "\n",
    "print(\"Successfully created a BiqQuery client\")\n",
    "print(f\"Project: {client.project}\")\n",
    "\n",
    "#List datasets available in project\n",
    "print(\"Listing datasets:\")\n",
    "\n",
    "#For loop iterating through datasets in client\n",
    "for dataset in client.list_datasets():\n",
    "    dataset_id = dataset.dataset_id\n",
    "    print(f\"dataset id: `{dataset_id}`, full_name: `{dataset.full_dataset_id}`, labels (tags): {dataset.labels}\")"
   ]
  },
  {
   "cell_type": "markdown",
   "metadata": {},
   "source": [
    "In a `.sql` file in the same repository as the Python code, write the SQL code that will create a table in the `plants` dataset called `flower_shop`. Give it a schema and insert values into it so it looks like this:\n",
    "\n",
    "```\n",
    "plant_id | species_name | variety_name    | zone | price\n",
    "1        | \"monstera\"   | \"swiss_cheese\"  | 5    | 20.25\n",
    "2        | \"cactus\"     | \"star\"          | 8    | 8.00\n",
    "3        | \"cactus\"     | \"bunny_ear\"     | 9    | 8.00\n",
    "4        | \"fern\"       | \"birds_nest\"    | 6    | 12.50\n",
    "5        | \"cactus\"     | \"saguaro\"       | 8    | 8.00\n",
    "6        | \"fern\"       | \"giant\"         | 7    | 11.00\n",
    "7        | \"monstera\"   | \"albo\"          | 5    | 14.75\n",
    "8        | \"cactus\"     | \"blue_columnar\" | 8    | 9.00\n",
    "9        | \"cactus\"     | \"barrel\"        | 9    | 14.50\n",
    "10       | \"bromeliad\"  | \"guzmania\"      | 9    | 15.50\n",
    "```\n"
   ]
  },
  {
   "cell_type": "code",
   "execution_count": null,
   "metadata": {},
   "outputs": [],
   "source": [
    "#See create_table.sql "
   ]
  },
  {
   "cell_type": "markdown",
   "metadata": {},
   "source": [
    "- Run the code from the `.sql` file in BigQuery, so it adds the new table to the `plants` dataset.\n",
    "\n",
    "- Using Python, use `.list_tables()`, list the tables in the `plants` dataset, and confirm your new `flower_shop` table is there."
   ]
  },
  {
   "cell_type": "code",
   "execution_count": 10,
   "metadata": {},
   "outputs": [
    {
     "name": "stdout",
     "output_type": "stream",
     "text": [
      "table name: `flower_shop`, created at: 2023-12-16 20:00:34.315000+00:00\n"
     ]
    }
   ],
   "source": [
    "#create plants dataset reference\n",
    "plants_ref = client.get_dataset(\"plants\")\n",
    "\n",
    "#access the tables in the client \n",
    "tables = client.list_tables(plants_ref)\n",
    "for table in tables:\n",
    "    print(f\"table name: `{table.table_id}`, created at: {table.created}\")"
   ]
  }
 ],
 "metadata": {
  "kernelspec": {
   "display_name": "venv",
   "language": "python",
   "name": "python3"
  },
  "language_info": {
   "codemirror_mode": {
    "name": "ipython",
    "version": 3
   },
   "file_extension": ".py",
   "mimetype": "text/x-python",
   "name": "python",
   "nbconvert_exporter": "python",
   "pygments_lexer": "ipython3",
   "version": "3.11.6"
  }
 },
 "nbformat": 4,
 "nbformat_minor": 2
}
